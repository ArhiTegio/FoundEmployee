{
 "cells": [
  {
   "cell_type": "code",
   "execution_count": 15,
   "id": "06161c2c",
   "metadata": {},
   "outputs": [],
   "source": [
    "import cv2\n",
    "import numpy as np\n",
    "import os"
   ]
  },
  {
   "cell_type": "code",
   "execution_count": 40,
   "id": "ae76df66",
   "metadata": {},
   "outputs": [],
   "source": [
    "video_capture = cv2.VideoCapture('Camera 3_20220526_003249.mp4')"
   ]
  },
  {
   "cell_type": "code",
   "execution_count": 41,
   "id": "4a78bc42",
   "metadata": {},
   "outputs": [
    {
     "data": {
      "text/plain": [
       "cv2.VideoCapture"
      ]
     },
     "execution_count": 41,
     "metadata": {},
     "output_type": "execute_result"
    }
   ],
   "source": [
    "type(video_capture)"
   ]
  },
  {
   "cell_type": "code",
   "execution_count": 42,
   "id": "669d2b08",
   "metadata": {},
   "outputs": [],
   "source": [
    "try:\n",
    "    os.mkdir('dataset')\n",
    "except:\n",
    "    pass"
   ]
  },
  {
   "cell_type": "code",
   "execution_count": 43,
   "id": "35bd044e",
   "metadata": {},
   "outputs": [],
   "source": [
    "xmin,ymin = 115, 210\n",
    "xmax, ymax = 350, 445"
   ]
  },
  {
   "cell_type": "code",
   "execution_count": 44,
   "id": "59d9c759",
   "metadata": {},
   "outputs": [],
   "source": [
    "size = 116"
   ]
  },
  {
   "cell_type": "code",
   "execution_count": 45,
   "id": "225fd9bd",
   "metadata": {},
   "outputs": [],
   "source": [
    "pos = 1\n",
    "ret = True\n",
    "idx = 0\n",
    "while ret:\n",
    "    ret, frame = video_capture.read()\n",
    "    if ret and pos % 15 == 0:\n",
    "        image = cv2.resize(frame[xmin:xmax, ymin:ymax], dsize=(size, size))\n",
    "        cv2.imwrite(\"dataset/img_%d.jpg\" % pos, image)\n",
    "        #if idx > 15:\n",
    "        #    break\n",
    "        #idx += 1\n",
    "    pos += 1\n",
    "    \n",
    "video_capture.release()\n",
    "#cv2.destroyAllWindows()"
   ]
  },
  {
   "cell_type": "code",
   "execution_count": null,
   "id": "76467e4c",
   "metadata": {},
   "outputs": [],
   "source": []
  }
 ],
 "metadata": {
  "kernelspec": {
   "display_name": "Python 3",
   "language": "python",
   "name": "python3"
  },
  "language_info": {
   "codemirror_mode": {
    "name": "ipython",
    "version": 3
   },
   "file_extension": ".py",
   "mimetype": "text/x-python",
   "name": "python",
   "nbconvert_exporter": "python",
   "pygments_lexer": "ipython3",
   "version": "3.8.8"
  }
 },
 "nbformat": 4,
 "nbformat_minor": 5
}
